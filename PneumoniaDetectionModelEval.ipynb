{
  "nbformat": 4,
  "nbformat_minor": 0,
  "metadata": {
    "colab": {
      "name": "PneumoniaDetectionModelEval.ipynb",
      "provenance": [],
      "collapsed_sections": [],
      "machine_shape": "hm",
      "authorship_tag": "ABX9TyMaKJh7LPqgvtIQysSw8Yr3",
      "include_colab_link": true
    },
    "kernelspec": {
      "name": "python3",
      "display_name": "Python 3"
    },
    "accelerator": "GPU"
  },
  "cells": [
    {
      "cell_type": "markdown",
      "metadata": {
        "id": "view-in-github",
        "colab_type": "text"
      },
      "source": [
        "<a href=\"https://colab.research.google.com/github/niteshnagreddy/Group3A-Capstone/blob/DhineshKumarGaneshan/PneumoniaDetectionModelEval.ipynb\" target=\"_parent\"><img src=\"https://colab.research.google.com/assets/colab-badge.svg\" alt=\"Open In Colab\"/></a>"
      ]
    },
    {
      "cell_type": "code",
      "metadata": {
        "id": "RNOjyFSp7Wdm",
        "colab_type": "code",
        "colab": {}
      },
      "source": [
        "from google.colab import drive\n",
        "drive.mount('/content/drive')"
      ],
      "execution_count": 0,
      "outputs": []
    },
    {
      "cell_type": "code",
      "metadata": {
        "id": "7cwpB0BVOVK9",
        "colab_type": "code",
        "colab": {}
      },
      "source": [
        "import os\n",
        "\n",
        "working_dir = '/content/drive/My Drive/PneumoniaDetection'\n",
        "os.chdir(working_dir)"
      ],
      "execution_count": 0,
      "outputs": []
    },
    {
      "cell_type": "code",
      "metadata": {
        "id": "w3bb4tBJOblz",
        "colab_type": "code",
        "colab": {}
      },
      "source": [
        "import zipfile"
      ],
      "execution_count": 0,
      "outputs": []
    },
    {
      "cell_type": "code",
      "metadata": {
        "id": "IdWL6bK2Od6I",
        "colab_type": "code",
        "colab": {}
      },
      "source": [
        "zip_file_dir = working_dir+'/trainData.zip'"
      ],
      "execution_count": 0,
      "outputs": []
    },
    {
      "cell_type": "code",
      "metadata": {
        "id": "79Vx4p8cOmXk",
        "colab_type": "code",
        "colab": {}
      },
      "source": [
        "#extracted = zipfile.ZipFile(zip_file_dir, 'r')\n",
        "#extracted.extractall(path=working_dir)"
      ],
      "execution_count": 0,
      "outputs": []
    },
    {
      "cell_type": "code",
      "metadata": {
        "id": "5r3sQwZLOyHP",
        "colab_type": "code",
        "colab": {}
      },
      "source": [
        "import numpy as np\n",
        "data = np.load(\"./trainDataSample.npy\", allow_pickle=True)"
      ],
      "execution_count": 0,
      "outputs": []
    },
    {
      "cell_type": "code",
      "metadata": {
        "id": "bqPogc1vPAAJ",
        "colab_type": "code",
        "colab": {}
      },
      "source": [
        "type(data)"
      ],
      "execution_count": 0,
      "outputs": []
    },
    {
      "cell_type": "code",
      "metadata": {
        "id": "0CI1P_dyPCWu",
        "colab_type": "code",
        "colab": {}
      },
      "source": [
        "data.shape"
      ],
      "execution_count": 0,
      "outputs": []
    },
    {
      "cell_type": "code",
      "metadata": {
        "id": "SECCExssPFCx",
        "colab_type": "code",
        "colab": {}
      },
      "source": [
        "data.view()[0]"
      ],
      "execution_count": 0,
      "outputs": []
    },
    {
      "cell_type": "code",
      "metadata": {
        "id": "KYEYtRCPPH07",
        "colab_type": "code",
        "colab": {}
      },
      "source": [
        "data[0][1]"
      ],
      "execution_count": 0,
      "outputs": []
    },
    {
      "cell_type": "code",
      "metadata": {
        "id": "onIy6reBPLtk",
        "colab_type": "code",
        "colab": {}
      },
      "source": [
        "IMAGE_WIDTH = 224\n",
        "IMAGE_HEIGHT = 224"
      ],
      "execution_count": 0,
      "outputs": []
    },
    {
      "cell_type": "code",
      "metadata": {
        "id": "8EMMXbxtPOL0",
        "colab_type": "code",
        "colab": {}
      },
      "source": [
        "import cv2\n",
        "from tensorflow.keras.applications.mobilenet import preprocess_input"
      ],
      "execution_count": 0,
      "outputs": []
    },
    {
      "cell_type": "code",
      "metadata": {
        "id": "lJRDHFe2PRh4",
        "colab_type": "code",
        "colab": {}
      },
      "source": [
        "masks = np.zeros((int(data.shape[0]), IMAGE_HEIGHT, IMAGE_WIDTH))\n",
        "X_train = np.zeros((int(data.shape[0]), IMAGE_HEIGHT, IMAGE_WIDTH, 3))\n",
        "for index in range(data.shape[0]):\n",
        "    img = data[index][0]\n",
        "    img = cv2.resize(img, dsize=(IMAGE_HEIGHT, IMAGE_WIDTH), interpolation=cv2.INTER_CUBIC)\n",
        "    try:\n",
        "      img = img[:, :, :3]\n",
        "    except:\n",
        "      continue\n",
        "    X_train[index] = preprocess_input(np.array(img, dtype=np.float32))\n",
        "    for i in data[index][1]:\n",
        "        x1 = int(i[\"points\"][0]['x'] * IMAGE_WIDTH)\n",
        "        x2 = int(i[\"points\"][1]['x'] * IMAGE_WIDTH)\n",
        "        y1 = int(i[\"points\"][0]['y'] * IMAGE_HEIGHT)\n",
        "        y2 = int(i[\"points\"][1]['y'] * IMAGE_HEIGHT)\n",
        "        masks[index][y1:y2, x1:x2] = 1"
      ],
      "execution_count": 0,
      "outputs": []
    },
    {
      "cell_type": "code",
      "metadata": {
        "id": "oaTOGFp_PWDZ",
        "colab_type": "code",
        "colab": {}
      },
      "source": [
        "X_train.shape"
      ],
      "execution_count": 0,
      "outputs": []
    },
    {
      "cell_type": "code",
      "metadata": {
        "id": "o1PaET54PYx8",
        "colab_type": "code",
        "colab": {}
      },
      "source": [
        "type(masks)"
      ],
      "execution_count": 0,
      "outputs": []
    },
    {
      "cell_type": "code",
      "metadata": {
        "id": "Ex3v0-DMPbKy",
        "colab_type": "code",
        "colab": {}
      },
      "source": [
        "masks.shape"
      ],
      "execution_count": 0,
      "outputs": []
    },
    {
      "cell_type": "code",
      "metadata": {
        "id": "vAZJgnylPdnf",
        "colab_type": "code",
        "colab": {}
      },
      "source": [
        "masks.shape[0]"
      ],
      "execution_count": 0,
      "outputs": []
    },
    {
      "cell_type": "code",
      "metadata": {
        "id": "5JTgM0QePgiA",
        "colab_type": "code",
        "colab": {}
      },
      "source": [
        "from matplotlib import pyplot\n",
        "n = 10\n",
        "print(X_train[n])\n",
        "pyplot.imshow(X_train[n])"
      ],
      "execution_count": 0,
      "outputs": []
    },
    {
      "cell_type": "code",
      "metadata": {
        "id": "mCwF6RaoPxQ3",
        "colab_type": "code",
        "colab": {}
      },
      "source": [
        "pyplot.imshow(masks[n])"
      ],
      "execution_count": 0,
      "outputs": []
    },
    {
      "cell_type": "code",
      "metadata": {
        "id": "6rxKYlupP0Yy",
        "colab_type": "code",
        "colab": {}
      },
      "source": [
        "from tensorflow.keras.applications.mobilenet import MobileNet, preprocess_input\n",
        "from tensorflow.keras.layers import Concatenate, UpSampling2D, Conv2D, Reshape, concatenate\n",
        "from tensorflow.keras.models import Model\n",
        "import tensorflow as tf\n",
        "import cv2"
      ],
      "execution_count": 0,
      "outputs": []
    },
    {
      "cell_type": "code",
      "metadata": {
        "id": "osfX42glP30S",
        "colab_type": "code",
        "colab": {}
      },
      "source": [
        "model = MobileNet()"
      ],
      "execution_count": 0,
      "outputs": []
    },
    {
      "cell_type": "code",
      "metadata": {
        "id": "57YMD_gJP7FJ",
        "colab_type": "code",
        "colab": {}
      },
      "source": [
        "model.summary()"
      ],
      "execution_count": 0,
      "outputs": []
    },
    {
      "cell_type": "code",
      "metadata": {
        "id": "gI2yroZiP_bp",
        "colab_type": "code",
        "colab": {}
      },
      "source": [
        "from keras import backend as K\n",
        "K.set_image_data_format('channels_first')"
      ],
      "execution_count": 0,
      "outputs": []
    },
    {
      "cell_type": "code",
      "metadata": {
        "id": "NBAUaO8XQEPs",
        "colab_type": "code",
        "colab": {}
      },
      "source": [
        "def create_model(trainable=True):\n",
        "    # model = #### Add your code here ####\n",
        "    model = MobileNet(input_shape=(IMAGE_HEIGHT, IMAGE_WIDTH, 3), \n",
        "                      include_top=False, alpha=1.0, weights='imagenet')\n",
        "    for layer in model.layers:\n",
        "        layer.trainable = trainable\n",
        "\n",
        "    # Add all the UNET layers here\n",
        "    #### Add your code here ####\n",
        "\n",
        "    # getting the layers from mobilenet network\n",
        "    conv_pw_13_relu = model.get_layer(\"conv_pw_13_relu\").output\n",
        "    conv_pw_12_relu = model.get_layer(\"conv_pw_12_relu\").output\n",
        "    conv_pw_11_relu = model.get_layer(\"conv_pw_11_relu\").output\n",
        "    conv_pw_10_relu = model.get_layer(\"conv_pw_10_relu\").output\n",
        "    conv_pw_9_relu = model.get_layer(\"conv_pw_9_relu\").output\n",
        "    conv_pw_8_relu = model.get_layer(\"conv_pw_8_relu\").output\n",
        "    conv_pw_7_relu = model.get_layer(\"conv_pw_7_relu\").output\n",
        "    conv_pw_6_relu = model.get_layer(\"conv_pw_6_relu\").output\n",
        "    conv_pw_5_relu = model.get_layer(\"conv_pw_5_relu\").output\n",
        "    conv_pw_4_relu = model.get_layer(\"conv_pw_4_relu\").output\n",
        "    conv_pw_3_relu = model.get_layer(\"conv_pw_3_relu\").output\n",
        "    conv_pw_2_relu = model.get_layer(\"conv_pw_2_relu\").output\n",
        "    conv_pw_1_relu = model.get_layer(\"conv_pw_1_relu\").output\n",
        "    input_1 = model.layers[0].output\n",
        "\n",
        "    \n",
        "    # Adding Unet layers\n",
        "    # Each set will have 1 upsampling, then concat with the mobilenet layers having same shape\n",
        "    # followed by 2 conved layers with extra parameters\n",
        "\n",
        "    up2 = UpSampling2D()(conv_pw_13_relu)\n",
        "    concat1 = Concatenate()([up2, conv_pw_11_relu])\n",
        "    new_conv15 = Conv2D(512, 3, activation='relu', padding='same', kernel_initializer='he_normal')(concat1)\n",
        "    new_conv15 = Conv2D(512, 3, activation='relu', padding='same', kernel_initializer='he_normal')(new_conv15)\n",
        "\n",
        "    up3 = UpSampling2D()(concat1)\n",
        "    concat2 = Concatenate()([up3, conv_pw_5_relu])\n",
        "    new_conv16 = Conv2D(256, 3, activation='relu', padding='same', kernel_initializer='he_normal')(concat2)\n",
        "    new_conv16 = Conv2D(256, 3, activation='relu', padding='same', kernel_initializer='he_normal')(new_conv16)\n",
        "\n",
        "    up4 = UpSampling2D()(concat2)\n",
        "    concat3 = Concatenate()([up4, conv_pw_3_relu])\n",
        "    new_conv17 = Conv2D(128, 3, activation='relu', padding='same', kernel_initializer='he_normal')(concat3)\n",
        "    new_conv17 = Conv2D(128, 3, activation='relu', padding='same', kernel_initializer='he_normal')(new_conv17)\n",
        "\n",
        "    up5 = UpSampling2D()(concat3)\n",
        "    concat4 = Concatenate()([up5, conv_pw_1_relu])\n",
        "    new_conv17 = Conv2D(64, 3, activation='relu', padding='same', kernel_initializer='he_normal')(concat4)\n",
        "    new_conv17 = Conv2D(64, 3, activation='relu', padding='same', kernel_initializer='he_normal')(new_conv17)\n",
        "\n",
        "    up6 = UpSampling2D()(concat4)\n",
        "    concat5 = Concatenate()([up6, input_1])\n",
        "\n",
        "    outputs = Conv2D(1, kernel_size=1, activation=\"sigmoid\")(concat5)\n",
        "    outputs = Reshape((IMAGE_HEIGHT, IMAGE_WIDTH))(outputs)\n",
        "\n",
        "    # #### Add your code here ####\n",
        "    return Model(inputs=model.input, outputs=outputs)"
      ],
      "execution_count": 0,
      "outputs": []
    },
    {
      "cell_type": "code",
      "metadata": {
        "id": "vg2TJ5cBQHKk",
        "colab_type": "code",
        "colab": {}
      },
      "source": [
        "model = create_model(True)"
      ],
      "execution_count": 0,
      "outputs": []
    },
    {
      "cell_type": "code",
      "metadata": {
        "id": "iKko6zU4QLte",
        "colab_type": "code",
        "colab": {}
      },
      "source": [
        "model.summary()"
      ],
      "execution_count": 0,
      "outputs": []
    },
    {
      "cell_type": "code",
      "metadata": {
        "id": "Uc8sl2D4QSdf",
        "colab_type": "code",
        "colab": {}
      },
      "source": [
        "from keras import backend as K\n",
        "\n",
        "def dice_coefficient(y_true, y_pred):\n",
        "    y_true_f = K.flatten(y_true)\n",
        "    y_pred_f = K.flatten(y_pred)\n",
        "\n",
        "    n = K.sum(y_true_f * y_pred_f)\n",
        "    d = K.sum(y_true_f) + K.sum(y_pred_f)\n",
        "    return n / (d + K.epsilon())"
      ],
      "execution_count": 0,
      "outputs": []
    },
    {
      "cell_type": "code",
      "metadata": {
        "id": "QKFnd0HgQVNx",
        "colab_type": "code",
        "colab": {}
      },
      "source": [
        "from tensorflow.keras.losses import binary_crossentropy\n",
        "from tensorflow.keras.backend import log, epsilon\n",
        "def loss(y_true, y_pred):\n",
        "    return binary_crossentropy(y_true, y_pred) - log(dice_coefficient(y_true, y_pred) + epsilon())"
      ],
      "execution_count": 0,
      "outputs": []
    },
    {
      "cell_type": "code",
      "metadata": {
        "id": "ncZDCPfHQY7u",
        "colab_type": "code",
        "colab": {}
      },
      "source": [
        "from tensorflow.keras.optimizers import Adam\n",
        "# optimizer = Adam(lr=1e-4, beta_1=0.9, beta_2=0.999, epsilon=None, decay=0.0, amsgrad=False)\n",
        "model.compile(loss=loss, optimizer=\"adam\", metrics=[dice_coefficient])"
      ],
      "execution_count": 0,
      "outputs": []
    },
    {
      "cell_type": "code",
      "metadata": {
        "id": "eJ0qfIg-Qb7h",
        "colab_type": "code",
        "colab": {}
      },
      "source": [
        "from tensorflow.keras.callbacks import ModelCheckpoint, EarlyStopping, ReduceLROnPlateau\n",
        "checkpoint = ModelCheckpoint(\"model-{loss:.2f}.h5\", monitor=\"loss\", verbose=1, save_best_only=True,\n",
        "                             save_weights_only=True, mode=\"min\", save_freq=1)\n",
        "stop = EarlyStopping(monitor=\"loss\", patience=5, mode=\"min\")\n",
        "reduce_lr = ReduceLROnPlateau(monitor=\"loss\", factor=0.2, patience=5, min_lr=1e-7, verbose=1, mode=\"min\")"
      ],
      "execution_count": 0,
      "outputs": []
    },
    {
      "cell_type": "code",
      "metadata": {
        "id": "ConJnfc_QhcS",
        "colab_type": "code",
        "colab": {}
      },
      "source": [
        "from tensorflow.keras.preprocessing.image import ImageDataGenerator\n",
        "from sklearn.model_selection import train_test_split"
      ],
      "execution_count": 0,
      "outputs": []
    },
    {
      "cell_type": "code",
      "metadata": {
        "id": "USYjT_FZQk_L",
        "colab_type": "code",
        "colab": {}
      },
      "source": [
        "EPOCHS = 50\n",
        "BATCH_SIZE = 8\n",
        "callbacks = [checkpoint, reduce_lr, stop]\n",
        "\n",
        "\n",
        "# model.fit(X_tr,y_tr, validation_data=(X_v,y_v), epochs=EPOCHS, batch_size=BATCH_SIZE, shuffle='batch', callbacks=callbacks, verbose=1)\n",
        "\n",
        "model.fit(X_train, masks, validation_split=0.3, \n",
        "          epochs=EPOCHS, batch_size=BATCH_SIZE, \n",
        "          shuffle='batch', \n",
        "          callbacks=callbacks, \n",
        "          verbose=1)"
      ],
      "execution_count": 0,
      "outputs": []
    },
    {
      "cell_type": "code",
      "metadata": {
        "id": "WS3oGofJWhvf",
        "colab_type": "code",
        "colab": {}
      },
      "source": [
        "WEIGHTS_FILE = \"model-16.15.h5\""
      ],
      "execution_count": 0,
      "outputs": []
    },
    {
      "cell_type": "code",
      "metadata": {
        "id": "JTEOCsUQWnaL",
        "colab_type": "code",
        "colab": {}
      },
      "source": [
        "model = create_model(True)\n",
        "model.load_weights(WEIGHTS_FILE)"
      ],
      "execution_count": 0,
      "outputs": []
    },
    {
      "cell_type": "code",
      "metadata": {
        "id": "yDvYeMSDWtPo",
        "colab_type": "code",
        "colab": {}
      },
      "source": [
        "n = 35\n",
        "sample_image = X_train[n]"
      ],
      "execution_count": 0,
      "outputs": []
    },
    {
      "cell_type": "code",
      "metadata": {
        "id": "0UJK3V1KWwiY",
        "colab_type": "code",
        "colab": {}
      },
      "source": [
        "pyplot.imshow(sample_image)"
      ],
      "execution_count": 0,
      "outputs": []
    },
    {
      "cell_type": "code",
      "metadata": {
        "id": "ENnwPJHkW8vY",
        "colab_type": "code",
        "colab": {}
      },
      "source": [
        "image_height, image_width, _ = sample_image.shape\n",
        "img = cv2.resize(sample_image, (IMAGE_HEIGHT, IMAGE_HEIGHT), 3)\n",
        "scaled = preprocess_input(np.array(img, dtype=np.float32))\n",
        "# scaled_exp = np.expand_dims(scaled, axis=1)\n",
        "# scaled_v = np.vectorize(scaled)\n",
        "\n",
        "bbox_pred = model.predict(x=np.array([img]))[0]\n",
        "\n",
        "\n",
        "\n",
        "x0 = ((bbox_pred[0]) * image_width / IMAGE_HEIGHT)\n",
        "# x0 = x0.astype(int)\n",
        "y0 = ((bbox_pred[1]) * image_height / IMAGE_HEIGHT)\n",
        "# y0 = y0.astype(int)\n",
        "x1 = ((bbox_pred[2]) * image_width / IMAGE_HEIGHT)\n",
        "# x1 = x1.astype(int)\n",
        "y1 = ((bbox_pred[3]) * image_height / IMAGE_HEIGHT)\n",
        "# y1 = y1.astype(int)"
      ],
      "execution_count": 0,
      "outputs": []
    },
    {
      "cell_type": "code",
      "metadata": {
        "id": "vS28esHOW_3y",
        "colab_type": "code",
        "colab": {}
      },
      "source": [
        "pyplot.imshow(bbox_pred)"
      ],
      "execution_count": 0,
      "outputs": []
    },
    {
      "cell_type": "code",
      "metadata": {
        "id": "_79fhJ0vXG3f",
        "colab_type": "code",
        "colab": {}
      },
      "source": [
        "unscaled = X_train[n]\n",
        "\n",
        "image = cv2.resize(unscaled, (IMAGE_WIDTH, IMAGE_HEIGHT),3)\n",
        "\n",
        "feat_scaled = preprocess_input(np.array(unscaled, dtype=np.float32))\n",
        "\n",
        "pred_mask = cv2.resize(1.0*(model.predict(x=np.array([image]))[0] > 0.5), (IMAGE_WIDTH,IMAGE_HEIGHT))\n",
        "\n",
        "image2 = image\n",
        "image2[:,:,0] = pred_mask*image[:,:,0]\n",
        "image2[:,:,1] = pred_mask*image[:,:,1]\n",
        "image2[:,:,2] = pred_mask*image[:,:,2]\n",
        "\n",
        "out_image = image2\n",
        "\n",
        "pyplot.imshow(out_image)\n",
        "# cv2.imshow(\"Predicted Mask\", out_image)\n",
        "cv2.waitKey(0)\n",
        "cv2.destroyAllWindows()"
      ],
      "execution_count": 0,
      "outputs": []
    },
    {
      "cell_type": "markdown",
      "metadata": {
        "id": "y3_AH8UG8Zg0",
        "colab_type": "text"
      },
      "source": [
        ""
      ]
    }
  ]
}