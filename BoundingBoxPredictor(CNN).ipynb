{
  "nbformat": 4,
  "nbformat_minor": 0,
  "metadata": {
    "kernelspec": {
      "display_name": "Python 3",
      "language": "python",
      "name": "python3"
    },
    "language_info": {
      "codemirror_mode": {
        "name": "ipython",
        "version": 3
      },
      "file_extension": ".py",
      "mimetype": "text/x-python",
      "name": "python",
      "nbconvert_exporter": "python",
      "pygments_lexer": "ipython3",
      "version": "3.6.5"
    },
    "colab": {
      "name": "Bounding Box Predictor (CNN).ipynb",
      "provenance": [],
      "collapsed_sections": []
    }
  },
  "cells": [
    {
      "cell_type": "code",
      "metadata": {
        "id": "GcH-B9EqIiJ6",
        "colab_type": "code",
        "outputId": "7f1368f6-7649-443d-85f4-bd97e9c281c1",
        "colab": {}
      },
      "source": [
        "import os\n",
        "import csv\n",
        "import pandas as pd\n",
        "import matplotlib.pyplot as plt\n",
        "\n",
        "import tensorflow as tf\n",
        "from tensorflow import keras\n",
        "\n",
        "#It is also of critical importance to ensure that one is using a GPU to handle the computational load of the model.\n",
        "#In my case, I am using a local GPU; therefore, its presence is noted below.\n",
        "#If a GPU is not listed using the commands provided below, your CPU will attempt to handle the load associated with the CNN.\n",
        "from tensorflow.python.client import device_lib\n",
        "print(device_lib.list_local_devices())"
      ],
      "execution_count": 0,
      "outputs": [
        {
          "output_type": "stream",
          "text": [
            "FutureWarning: Conversion of the second argument of issubdtype from `float` to `np.floating` is deprecated. In future, it will be treated as `np.float64 == np.dtype(float).type`.\n",
            "  from ._conv import register_converters as _register_converters\n"
          ],
          "name": "stderr"
        },
        {
          "output_type": "stream",
          "text": [
            "[name: \"/device:CPU:0\"\n",
            "device_type: \"CPU\"\n",
            "memory_limit: 268435456\n",
            "locality {\n",
            "}\n",
            "incarnation: 29482849431234554614\n",
            ", name: \"/device:GPU:0\"\n",
            "device_type: \"GPU\"\n",
            "memory_limit: 6701764613\n",
            "locality {\n",
            "  bus_id: 1\n",
            "  links {\n",
            "  }\n",
            "}\n",
            "incarnation: 819358234544545\n",
            "physical_device_desc: \"device: 0, name: GeForce GTX 1070, pci bus id: 0000:01:00.0, compute capability: 6.1\"\n",
            "]\n"
          ],
          "name": "stdout"
        }
      ]
    },
    {
      "cell_type": "code",
      "metadata": {
        "id": "izeIgxK9IiKA",
        "colab_type": "code",
        "colab": {}
      },
      "source": [
        "# empty dictionary\n",
        "pneumonia_locations = {}\n",
        "# load table\n",
        "with open(os.path.join('path/to/stage_1_train_labels.csv'), mode='r') as infile:\n",
        "    # open reader\n",
        "    reader = csv.reader(infile)\n",
        "    # skip header\n",
        "    next(reader, None)\n",
        "    # loop through rows\n",
        "    for rows in reader:\n",
        "        # retrieve information\n",
        "        filename = rows[0]\n",
        "        location = rows[1:5]\n",
        "        pneumonia = rows[5]\n",
        "        # if row contains pneumonia add label to dictionary\n",
        "        # which contains a list of pneumonia locations per filename\n",
        "        if pneumonia == '1':\n",
        "            # convert string to float to int\n",
        "            location = [int(float(i)) for i in location]\n",
        "            # save pneumonia location in dictionary\n",
        "            if filename in pneumonia_locations:\n",
        "                pneumonia_locations[filename].append(location)\n",
        "            else:\n",
        "                pneumonia_locations[filename] = [location]"
      ],
      "execution_count": 0,
      "outputs": []
    },
    {
      "cell_type": "code",
      "metadata": {
        "id": "hfVSZ2aYIiKD",
        "colab_type": "code",
        "outputId": "fdc31ef1-2cb7-4b9e-c8db-6abd2c2af28c",
        "colab": {}
      },
      "source": [
        "pneumonia_locations"
      ],
      "execution_count": 0,
      "outputs": [
        {
          "output_type": "execute_result",
          "data": {
            "text/plain": [
              "{'00436515-870c-4b36-a041-de91049b9ab4': [[264, 152, 213, 379],\n",
              "  [562, 152, 256, 453]],\n",
              " '00704310-78a8-4b38-8475-49f4573b2dbb': [[323, 577, 160, 104],\n",
              "  [695, 575, 162, 137]],\n",
              " '00aecb01-a116-45a2-956c-08d2fa55433f': [[288, 322, 94, 135],\n",
              "  [547, 299, 119, 165]],\n",
              " '389628be-67a0-4854-a44e-0c4e2df93b04': [[696, 139, 250, 538],\n",
              "  [262, 101, 253, 452]],\n",
              " ...}"
            ]
          },
          "metadata": {
            "tags": []
          },
          "execution_count": 120
        }
      ]
    },
    {
      "cell_type": "code",
      "metadata": {
        "id": "ONXKK2iiIiKG",
        "colab_type": "code",
        "outputId": "cbadb785-696c-4484-a233-0cfceae55318",
        "colab": {}
      },
      "source": [
        "# load and shuffle filenames\n",
        "folder = 'path/to/sample_train/'\n",
        "filenames = os.listdir(folder)\n",
        "random.shuffle(filenames)\n",
        "# split into train and validation filenames\n",
        "#Roughly 80:20 split\n",
        "n_valid_samples = 2560\n",
        "train_filenames = filenames[n_valid_samples:]\n",
        "valid_filenames = filenames[:n_valid_samples]\n",
        "print('n training samples', len(train_filenames))\n",
        "print('n validation samples', len(valid_filenames))\n",
        "n_train_samples = len(filenames) - n_valid_samples"
      ],
      "execution_count": 0,
      "outputs": [
        {
          "output_type": "stream",
          "text": [
            "n training samples 23124\n",
            "n validation samples 2560\n"
          ],
          "name": "stdout"
        }
      ]
    },
    {
      "cell_type": "markdown",
      "metadata": {
        "id": "PhgHfHjLIiKJ",
        "colab_type": "text"
      },
      "source": [
        "# CNN Model"
      ]
    },
    {
      "cell_type": "code",
      "metadata": {
        "id": "EuUoKYr6IiKK",
        "colab_type": "code",
        "colab": {}
      },
      "source": [
        "#Defining a generator allows the model to arrange processes without loading everything into memory at once.\n",
        "class generator(keras.utils.Sequence):\n",
        "    \n",
        "    def __init__(self, folder, filenames, pneumonia_locations=None, batch_size=32, image_size=256, shuffle=True, augment=False, predict=False):\n",
        "        self.folder = folder\n",
        "        self.filenames = filenames\n",
        "        self.pneumonia_locations = pneumonia_locations\n",
        "        self.batch_size = batch_size\n",
        "        self.image_size = image_size\n",
        "        self.shuffle = shuffle\n",
        "        self.augment = augment\n",
        "        self.predict = predict\n",
        "        self.on_epoch_end()\n",
        "        \n",
        "    def __load__(self, filename):\n",
        "        # load dicom file as numpy array\n",
        "        img = pydicom.dcmread(os.path.join(self.folder, filename)).pixel_array\n",
        "        # create empty mask\n",
        "        msk = np.zeros(img.shape)\n",
        "        # get filename without extension\n",
        "        filename = filename.split('.')[0]\n",
        "        # if image contains pneumonia\n",
        "        if filename in pneumonia_locations:\n",
        "            # loop through pneumonia\n",
        "            for location in pneumonia_locations[filename]:\n",
        "                # add 1's at the location of the pneumonia\n",
        "                x, y, w, h = location\n",
        "                msk[y:y+h, x:x+w] = 1\n",
        "        # if augment then horizontal flip half the time\n",
        "        if self.augment and random.random() > 0.5:\n",
        "            img = np.fliplr(img)\n",
        "            msk = np.fliplr(msk)\n",
        "        # resize both image and mask\n",
        "        img = resize(img, (self.image_size, self.image_size), mode='symmetric')\n",
        "        msk = resize(msk, (self.image_size, self.image_size), mode='symmetric') > 0.5\n",
        "        # add trailing channel dimension\n",
        "        img = np.expand_dims(img, -1)\n",
        "        msk = np.expand_dims(msk, -1)\n",
        "        return img, msk\n",
        "    \n",
        "    def __loadpredict__(self, filename):\n",
        "        # load dicom file as numpy array\n",
        "        img = pydicom.dcmread(os.path.join(self.folder, filename)).pixel_array\n",
        "        # resize image\n",
        "        img = resize(img, (self.image_size, self.image_size), mode='symmetric')\n",
        "        # add trailing channel dimension\n",
        "        img = np.expand_dims(img, -1)\n",
        "        return img\n",
        "        \n",
        "    def __getitem__(self, index):\n",
        "        # select batch\n",
        "        filenames = self.filenames[index*self.batch_size:(index+1)*self.batch_size]\n",
        "        # predict mode: return images and filenames\n",
        "        if self.predict:\n",
        "            # load files\n",
        "            imgs = [self.__loadpredict__(filename) for filename in filenames]\n",
        "            # create numpy batch\n",
        "            imgs = np.array(imgs)\n",
        "            return imgs, filenames\n",
        "        # train mode: return images and masks\n",
        "        else:\n",
        "            # load files\n",
        "            items = [self.__load__(filename) for filename in filenames]\n",
        "            # unzip images and masks\n",
        "            imgs, msks = zip(*items)\n",
        "            # create numpy batch\n",
        "            imgs = np.array(imgs)\n",
        "            msks = np.array(msks)\n",
        "            return imgs, msks\n",
        "        \n",
        "    def on_epoch_end(self):\n",
        "        if self.shuffle:\n",
        "            random.shuffle(self.filenames)\n",
        "        \n",
        "    def __len__(self):\n",
        "        if self.predict:\n",
        "            # return everything\n",
        "            return int(np.ceil(len(self.filenames) / self.batch_size))\n",
        "        else:\n",
        "            # return full batches only\n",
        "            return int(len(self.filenames) / self.batch_size)"
      ],
      "execution_count": 0,
      "outputs": []
    },
    {
      "cell_type": "code",
      "metadata": {
        "id": "BtoK2UPUIiKM",
        "colab_type": "code",
        "colab": {}
      },
      "source": [
        "def create_downsample(channels, inputs):\n",
        "    x = keras.layers.BatchNormalization(momentum=0.9)(inputs)\n",
        "    x = keras.layers.LeakyReLU(0)(x)\n",
        "    x = keras.layers.Conv2D(channels, 1, padding='same', use_bias=False)(x)\n",
        "    x = keras.layers.MaxPool2D(2)(x)\n",
        "    x = keras.layers.Conv2D(channels, 1, padding='same', use_bias=False)(x)\n",
        "    x = keras.layers.MaxPool2D(2)(x)\n",
        "    return x\n",
        "\n",
        "def create_resblock(channels, inputs):\n",
        "    x = keras.layers.BatchNormalization(momentum=0.9)(inputs)\n",
        "    x = keras.layers.LeakyReLU(0)(x)\n",
        "    x = keras.layers.Conv2D(channels, 3, padding='same', use_bias=False)(x)\n",
        "    x = keras.layers.BatchNormalization(momentum=0.9)(x)\n",
        "    x = keras.layers.LeakyReLU(0)(x)\n",
        "    x = keras.layers.Conv2D(channels, 3, padding='same', use_bias=False)(x)\n",
        "    x = keras.layers.BatchNormalization(momentum=0.9)(x)\n",
        "    x = keras.layers.LeakyReLU(0)(x)\n",
        "    x = keras.layers.Conv2D(channels, 3, padding='same', use_bias=False)(x)\n",
        "    return keras.layers.add([x, inputs])\n",
        "\n",
        "def create_network(input_size, channels, n_blocks=2, depth=4):\n",
        "    # input\n",
        "    inputs = keras.Input(shape=(input_size, input_size, 1))\n",
        "    x = keras.layers.Conv2D(channels, 3, padding='same', use_bias=False)(inputs)\n",
        "    # residual blocks\n",
        "    for d in range(depth):\n",
        "        channels = channels * 2\n",
        "        x = create_downsample(channels, x)\n",
        "        for b in range(n_blocks):\n",
        "            x = create_resblock(channels, x)\n",
        "    # output\n",
        "    x = keras.layers.BatchNormalization(momentum=0.9)(x)\n",
        "    x = keras.layers.LeakyReLU(0)(x)\n",
        "    x = keras.layers.Conv2D(1, 1, activation='sigmoid')(x)\n",
        "    outputs = keras.layers.UpSampling2D(2**depth)(x)\n",
        "    model = keras.Model(inputs=inputs, outputs=outputs)\n",
        "    return model"
      ],
      "execution_count": 0,
      "outputs": []
    },
    {
      "cell_type": "code",
      "metadata": {
        "scrolled": false,
        "id": "_j_XxQidIiKP",
        "colab_type": "code",
        "outputId": "6594a692-258d-4d55-a24e-cbffbdeb20c7",
        "colab": {}
      },
      "source": [
        "# define iou or jaccard loss function\n",
        "def iou_loss(y_true, y_pred):\n",
        "    y_true = tf.reshape(y_true, [-1])\n",
        "    y_pred = tf.reshape(y_pred, [-1])\n",
        "    intersection = tf.reduce_sum(y_true * y_pred)\n",
        "    score = (intersection + 1.) / (tf.reduce_sum(y_true) + tf.reduce_sum(y_pred) - intersection + 1.)\n",
        "    return 1 - score\n",
        "\n",
        "# combine bce loss and iou loss\n",
        "def iou_bce_loss(y_true, y_pred):\n",
        "    return 0.5 * keras.losses.binary_crossentropy(y_true, y_pred) + 0.5 * iou_loss(y_true, y_pred)\n",
        "\n",
        "# mean iou as a metric\n",
        "def mean_iou(y_true, y_pred):\n",
        "    y_pred = tf.round(y_pred)\n",
        "    intersect = tf.reduce_sum(y_true * y_pred, axis=[1, 2, 3])\n",
        "    union = tf.reduce_sum(y_true, axis=[1, 2, 3]) + tf.reduce_sum(y_pred, axis=[1, 2, 3])\n",
        "    smooth = tf.ones(tf.shape(intersect))\n",
        "    return tf.reduce_mean((intersect + smooth) / (union - intersect + smooth))\n",
        "\n",
        "# create network and compiler\n",
        "model = create_network(input_size=128, channels=16, n_blocks=2, depth=3)\n",
        "model.compile(optimizer='adam',\n",
        "              loss=iou_bce_loss,\n",
        "              metrics=['accuracy', mean_iou])\n",
        "\n",
        "# cosine learning rate annealing\n",
        "def cosine_annealing(x):\n",
        "    lr = 0.001\n",
        "    epochs = 20\n",
        "    return lr*(np.cos(np.pi*x/epochs)+1.)/2\n",
        "learning_rate = tf.keras.callbacks.LearningRateScheduler(cosine_annealing)\n",
        "\n",
        "# create train and validation generators\n",
        "folder = 'path/to/sample_train/'\n",
        "train_gen = generator(folder, train_filenames, pneumonia_locations, batch_size=16, image_size=128, shuffle=True, augment=True, predict=False)\n",
        "valid_gen = generator(folder, valid_filenames, pneumonia_locations, batch_size=16, image_size=128, shuffle=False, predict=False)\n",
        "\n",
        "history = model.fit_generator(train_gen, validation_data=valid_gen, callbacks=[learning_rate], epochs=20, shuffle=True)"
      ],
      "execution_count": 0,
      "outputs": [
        {
          "output_type": "stream",
          "text": [
            "Epoch 1/20\n",
            "1445/1445 [==============================] - 1420s 983ms/step - loss: 0.4662 - acc: 0.9650 - mean_iou: 0.6369 - val_loss: 0.4504 - val_acc: 0.9599 - val_mean_iou: 0.6055\n",
            "Epoch 2/20\n",
            "1445/1445 [==============================] - 1448s 1s/step - loss: 0.4375 - acc: 0.9683 - mean_iou: 0.6766 - val_loss: 0.4366 - val_acc: 0.9728 - val_mean_iou: 0.7088\n",
            "Epoch 3/20\n",
            "1445/1445 [==============================] - 1403s 971ms/step - loss: 0.4248 - acc: 0.9696 - mean_iou: 0.6921 - val_loss: 0.4615 - val_acc: 0.9750 - val_mean_iou: 0.7459\n",
            "Epoch 4/20\n",
            "1445/1445 [==============================] - 1463s 1s/step - loss: 0.4166 - acc: 0.9705 - mean_iou: 0.7011 - val_loss: 0.4192 - val_acc: 0.9711 - val_mean_iou: 0.6920\n",
            "Epoch 5/20\n",
            "1445/1445 [==============================] - 1479s 1s/step - loss: 0.4117 - acc: 0.9710 - mean_iou: 0.7058 - val_loss: 0.4124 - val_acc: 0.9716 - val_mean_iou: 0.7026\n",
            "Epoch 6/20\n",
            "1445/1445 [==============================] - 1423s 985ms/step - loss: 0.4091 - acc: 0.9715 - mean_iou: 0.7116 - val_loss: 0.4109 - val_acc: 0.9733 - val_mean_iou: 0.7286\n",
            "Epoch 7/20\n",
            "1445/1445 [==============================] - 1337s 925ms/step - loss: 0.4046 - acc: 0.9720 - mean_iou: 0.7165 - val_loss: 0.4236 - val_acc: 0.9699 - val_mean_iou: 0.7069\n",
            "Epoch 8/20\n",
            "1445/1445 [==============================] - 1302s 901ms/step - loss: 0.4014 - acc: 0.9721 - mean_iou: 0.7164 - val_loss: 0.4138 - val_acc: 0.9758 - val_mean_iou: 0.7436\n",
            "Epoch 9/20\n",
            "1445/1445 [==============================] - 1164s 805ms/step - loss: 0.3988 - acc: 0.9728 - mean_iou: 0.7203 - val_loss: 0.4228 - val_acc: 0.9753 - val_mean_iou: 0.7480\n",
            "Epoch 10/20\n",
            "1445/1445 [==============================] - 1184s 819ms/step - loss: 0.3953 - acc: 0.9728 - mean_iou: 0.7229 - val_loss: 0.4181 - val_acc: 0.9647 - val_mean_iou: 0.6786\n",
            "Epoch 11/20\n",
            "1445/1445 [==============================] - 1282s 887ms/step - loss: 0.3907 - acc: 0.9735 - mean_iou: 0.7315 - val_loss: 0.4073 - val_acc: 0.9728 - val_mean_iou: 0.7173\n",
            "Epoch 12/20\n",
            "1445/1445 [==============================] - 1304s 902ms/step - loss: 0.3889 - acc: 0.9740 - mean_iou: 0.7343 - val_loss: 0.4033 - val_acc: 0.9721 - val_mean_iou: 0.7385\n",
            "Epoch 13/20\n",
            "1445/1445 [==============================] - 1305s 903ms/step - loss: 0.3879 - acc: 0.9741 - mean_iou: 0.7351 - val_loss: 0.4075 - val_acc: 0.9720 - val_mean_iou: 0.7262\n",
            "Epoch 14/20\n",
            "1445/1445 [==============================] - 1307s 905ms/step - loss: 0.3827 - acc: 0.9748 - mean_iou: 0.7407 - val_loss: 0.4049 - val_acc: 0.9742 - val_mean_iou: 0.7546\n",
            "Epoch 15/20\n",
            "1445/1445 [==============================] - 1148s 794ms/step - loss: 0.3797 - acc: 0.9752 - mean_iou: 0.7486 - val_loss: 0.4015 - val_acc: 0.9740 - val_mean_iou: 0.7369\n",
            "Epoch 16/20\n",
            "1445/1445 [==============================] - 1079s 746ms/step - loss: 0.3776 - acc: 0.9755 - mean_iou: 0.7478 - val_loss: 0.4021 - val_acc: 0.9722 - val_mean_iou: 0.7194\n",
            "Epoch 17/20\n",
            "1445/1445 [==============================] - 1093s 757ms/step - loss: 0.3718 - acc: 0.9761 - mean_iou: 0.7529 - val_loss: 0.4034 - val_acc: 0.9738 - val_mean_iou: 0.7478\n",
            "Epoch 18/20\n",
            "1445/1445 [==============================] - 1142s 790ms/step - loss: 0.3727 - acc: 0.9762 - mean_iou: 0.7533 - val_loss: 0.4021 - val_acc: 0.9726 - val_mean_iou: 0.7376\n",
            "Epoch 19/20\n",
            "1445/1445 [==============================] - 1157s 800ms/step - loss: 0.3699 - acc: 0.9764 - mean_iou: 0.7556 - val_loss: 0.4031 - val_acc: 0.9733 - val_mean_iou: 0.7394\n",
            "Epoch 20/20\n",
            "1445/1445 [==============================] - 1094s 757ms/step - loss: 0.3687 - acc: 0.9766 - mean_iou: 0.7599 - val_loss: 0.4031 - val_acc: 0.9732 - val_mean_iou: 0.7409\n"
          ],
          "name": "stdout"
        }
      ]
    },
    {
      "cell_type": "code",
      "metadata": {
        "id": "84kFkzt4IiKR",
        "colab_type": "code",
        "outputId": "3311b11a-137b-4cc5-9778-ae9b803b7920",
        "colab": {}
      },
      "source": [
        "plt.figure(figsize=(12,4))\n",
        "plt.subplot(131)\n",
        "plt.plot(history.epoch, history.history[\"loss\"], label=\"Train loss\")\n",
        "plt.plot(history.epoch, history.history[\"val_loss\"], label=\"Valid loss\")\n",
        "plt.legend()\n",
        "plt.subplot(132)\n",
        "plt.plot(history.epoch, history.history[\"acc\"], label=\"Train accuracy\")\n",
        "plt.plot(history.epoch, history.history[\"val_acc\"], label=\"Valid accuracy\")\n",
        "plt.legend()\n",
        "plt.subplot(133)\n",
        "plt.plot(history.epoch, history.history[\"mean_iou\"], label=\"Train iou\")\n",
        "plt.plot(history.epoch, history.history[\"val_mean_iou\"], label=\"Valid iou\")\n",
        "plt.legend()\n",
        "plt.show()"
      ],
      "execution_count": 0,
      "outputs": [
        {
          "output_type": "display_data",
          "data": {
            "image/png": "[encoded data removed]",
            "text/plain": [
              "<Figure size 864x288 with 3 Axes>"
            ]
          },
          "metadata": {
            "tags": []
          }
        }
      ]
    },
    {
      "cell_type": "code",
      "metadata": {
        "id": "UpgO9euyIiKU",
        "colab_type": "code",
        "outputId": "82863d67-6f6b-4aeb-a5d0-720756028efc",
        "colab": {}
      },
      "source": [
        "# load filenames\n",
        "folder = 'path/to/sample_test/'\n",
        "test_filenames = os.listdir(folder)\n",
        "print('n test samples:', len(test_filenames))\n",
        "\n",
        "# create test generator with predict flag set to True\n",
        "test_gen = generator(folder, test_filenames, None, batch_size=16, image_size=128, shuffle=False, predict=True)\n",
        "\n",
        "# create submission dictionary\n",
        "submission_dict = {}\n",
        "# loop through testset\n",
        "for imgs, filenames in test_gen:\n",
        "    # predict batch of images\n",
        "    preds = model.predict(imgs)\n",
        "    # loop through batch\n",
        "    for pred, filename in zip(preds, filenames):\n",
        "        # resize predicted mask\n",
        "        pred = resize(pred, (1024, 1024), mode='reflect')\n",
        "        # threshold predicted mask\n",
        "        comp = pred[:, :, 0] > 0.5\n",
        "        # apply connected components\n",
        "        comp = measure.label(comp)\n",
        "        # apply bounding boxes\n",
        "        predictionString = ''\n",
        "        for region in measure.regionprops(comp):\n",
        "            # retrieve x, y, height and width\n",
        "            y, x, y2, x2 = region.bbox\n",
        "            height = y2 - y\n",
        "            width = x2 - x\n",
        "            # proxy for confidence score\n",
        "            conf = np.mean(pred[y:y+height, x:x+width])\n",
        "            # add to predictionString\n",
        "            predictionString += str(conf) + ' ' + str(x) + ' ' + str(y) + ' ' + str(width) + ' ' + str(height) + ' '\n",
        "        # add filename and predictionString to dictionary\n",
        "        filename = filename.split('.')[0]\n",
        "        submission_dict[filename] = predictionString\n",
        "    # stop if we've got them all\n",
        "    if len(submission_dict) >= len(test_filenames):\n",
        "        break\n",
        "\n",
        "# save dictionary as csv file\n",
        "sub = pd.DataFrame.from_dict(submission_dict,orient='index')\n",
        "sub.index.names = ['patientId']\n",
        "sub.columns = ['PredictionString']\n",
        "sub.to_csv('path/to/sub3_1.csv')"
      ],
      "execution_count": 0,
      "outputs": [
        {
          "output_type": "stream",
          "text": [
            "n test samples: 1000\n"
          ],
          "name": "stdout"
        }
      ]
    }
  ]
}